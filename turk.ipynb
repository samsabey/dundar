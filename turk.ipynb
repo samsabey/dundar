{
  "nbformat": 4,
  "nbformat_minor": 0,
  "metadata": {
    "colab": {
      "name": "1.ipynb",
      "private_outputs": true,
      "provenance": []
    },
    "kernelspec": {
      "name": "python3",
      "display_name": "Python 3"
    },
    "language_info": {
      "name": "python"
    },
    "accelerator": "GPU"
  },
  "cells": [
    {
      "cell_type": "code",
      "metadata": {
        "id": "jqp52IpO18Ms"
      },
      "source": [
        "!nvidia-smi"
      ],
      "execution_count": null,
      "outputs": []
    },
    {
      "cell_type": "code",
      "metadata": {
        "id": "rx3Rh_D25L_B"
      },
      "source": [
        "!sed -i -e 's/\\r$//' dundar.sh\n",
        "!chmod +x *.sh\n",
        "!./dundar.sh"
      ],
      "execution_count": null,
      "outputs": []
    }
  ]
}